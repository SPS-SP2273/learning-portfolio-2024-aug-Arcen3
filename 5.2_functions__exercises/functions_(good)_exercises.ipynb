{
 "cells": [
  {
   "attachments": {},
   "cell_type": "markdown",
   "id": "123456",
   "metadata": {},
   "source": [
    "<div style=\"text-align:left;font-size:2em\"><span style=\"font-weight:bolder;font-size:1.25em\">SP2273 | Learning Portfolio</span><br><br><span style=\"font-weight:bold;color:darkred\">Functions (Good) Exercises</span></div>"
   ]
  },
  {
   "cell_type": "code",
   "execution_count": 39,
   "id": "f5ec67c4-93a3-402e-aa74-4139a4e5fe50",
   "metadata": {},
   "outputs": [
    {
     "name": "stdin",
     "output_type": "stream",
     "text": [
      "Temperature in Celsius:  31\n",
      "Desired temperature scale (kelvin/fahrenheit):  kelvin\n"
     ]
    },
    {
     "name": "stdout",
     "output_type": "stream",
     "text": [
      "Temperature in Kelvin is 304.15\n"
     ]
    }
   ],
   "source": [
    "def convert_celsius(temperature_celsius,target_scale):\n",
    "    target_scale=target_scale.lower()\n",
    "    if target_scale=='kelvin':\n",
    "        return temperature_celsius+273.15\n",
    "    else:\n",
    "        return temperature_celsius*9/5+32\n",
    "\n",
    "tc=None\n",
    "while tc==None:\n",
    "    try:\n",
    "        tc=float(input('Temperature in Celsius: '))\n",
    "    except:\n",
    "        print('That is not a valid input')\n",
    "\n",
    "ts=input('Desired temperature scale (kelvin/fahrenheit): ')\n",
    "ts=ts.lower()\n",
    "\n",
    "if ts!='kelvin':\n",
    "    ts='Fahrenheit'\n",
    "elif ts=='kelvin':\n",
    "    ts='Kelvin'\n",
    "\n",
    "print(f'Temperature in {ts} is {convert_celsius(tc,ts):.2f}')"
   ]
  },
  {
   "cell_type": "code",
   "execution_count": 45,
   "id": "f29a4ec7-516f-4c8c-aea5-a12a9fe624c6",
   "metadata": {},
   "outputs": [
    {
     "name": "stdin",
     "output_type": "stream",
     "text": [
      "Temperature in Fahrenheit:  321.23\n",
      "Desired temperature scale (celsius/kelvin):  sa\n"
     ]
    },
    {
     "name": "stdout",
     "output_type": "stream",
     "text": [
      "Temperature in Celsius is 160.68\n"
     ]
    }
   ],
   "source": [
    "def convert_fahrenheit(temperature_fahrenheit,target_scale):\n",
    "    target_scale=target_scale.lower()\n",
    "    if target_scale=='kelvin':\n",
    "        t=(temperature_fahrenheit-32)/9*5-273.15\n",
    "        return t\n",
    "    else:\n",
    "        t=(temperature_fahrenheit-32)/9*5\n",
    "        return t\n",
    "\n",
    "tf=None\n",
    "while tf==None:\n",
    "    try:\n",
    "        tf=float(input('Temperature in Fahrenheit: '))\n",
    "    except:\n",
    "        print('That is not a valid input')\n",
    "\n",
    "ts=input('Desired temperature scale (celsius/kelvin): ')\n",
    "ts=ts.lower()\n",
    "\n",
    "if ts!='kelvin':\n",
    "    ts='Celsius'\n",
    "elif ts=='kelvin':\n",
    "    ts='Kelvin'\n",
    "\n",
    "print(f'Temperature in {ts} is {convert_fahrenheit(tf,ts):.2f}')"
   ]
  },
  {
   "cell_type": "code",
   "execution_count": 51,
   "id": "edbfb50d-57e6-48f0-9961-b96bb9abfbee",
   "metadata": {},
   "outputs": [
    {
     "name": "stdin",
     "output_type": "stream",
     "text": [
      "Source scale:  pota@to\n"
     ]
    },
    {
     "name": "stdout",
     "output_type": "stream",
     "text": [
      "Invalid input. Valid inputs are Celsius, Kelvin and Fahrenheit\n"
     ]
    },
    {
     "name": "stdin",
     "output_type": "stream",
     "text": [
      "Source scale:  Celsius\n",
      "Temperature 352\n",
      "Target scale:  Fahrenheit\n"
     ]
    },
    {
     "name": "stdout",
     "output_type": "stream",
     "text": [
      "Temperature from celsius to fahrenheit is 665.60\n"
     ]
    }
   ],
   "source": [
    "def convert_kelvin(temperature_kelvin,target_scale):\n",
    "    target_scale=target_scale.lower()\n",
    "    if target_scale=='celsius':\n",
    "        return temperature_kelvin+273.15\n",
    "    else:\n",
    "        return (temperature_kelvin+273.15)*9/5\n",
    "\n",
    "def scale(var):\n",
    "    ss=str()\n",
    "    while ss=='':\n",
    "        ss=input(f'{var} scale: ')\n",
    "        ss=ss.lower()\n",
    "        if (ss=='celsius') | (ss=='kelvin') | (ss=='fahrenheit'):\n",
    "            break\n",
    "        else:\n",
    "            print('Invalid input. Valid inputs are Celsius, Kelvin and Fahrenheit')\n",
    "            ss=''\n",
    "    return ss\n",
    "\n",
    "def convert_temperature():\n",
    "    ss=scale('Source')\n",
    "    t=None\n",
    "    while t==None:\n",
    "        try:\n",
    "            t=float(input('Temperature: '))\n",
    "        except:\n",
    "            print('That is not a valid input!')\n",
    "    ts=scale('Target')\n",
    "    if ss=='kelvin':\n",
    "        return(f'Temperature from {ss} to {ts} is {convert_kelvin(t,ts):.2f}')\n",
    "    elif ss=='fahrenheit':\n",
    "        return(f'Temperature from {ss} to {ts} is {convert_fahrenheit(t,ts):.2f}')\n",
    "    elif ss=='celsius':\n",
    "        return(f'Temperature from {ss} to {ts} is {convert_celsius(t,ts):.2f}')\n",
    "\n",
    "print(convert_temperature())"
   ]
  },
  {
   "cell_type": "code",
   "execution_count": null,
   "id": "0da1006f-05f4-4332-9152-e5baa838c8e1",
   "metadata": {},
   "outputs": [],
   "source": []
  }
 ],
 "metadata": {
  "kernelspec": {
   "display_name": "Python 3 (ipykernel)",
   "language": "python",
   "name": "python3"
  },
  "language_info": {
   "codemirror_mode": {
    "name": "ipython",
    "version": 3
   },
   "file_extension": ".py",
   "mimetype": "text/x-python",
   "name": "python",
   "nbconvert_exporter": "python",
   "pygments_lexer": "ipython3",
   "version": "3.12.3"
  },
  "toc": {
   "base_numbering": 1,
   "nav_menu": {},
   "number_sections": true,
   "sideBar": true,
   "skip_h1_title": false,
   "title_cell": "Table of Contents",
   "title_sidebar": "Contents",
   "toc_cell": false,
   "toc_position": {},
   "toc_section_display": true,
   "toc_window_display": false
  },
  "vscode": {
   "interpreter": {
    "hash": "31f2aee4e71d21fbe5cf8b01ff0e069b9275f58929596ceb00d14d90e3e16cd6"
   }
  }
 },
 "nbformat": 4,
 "nbformat_minor": 5
}
