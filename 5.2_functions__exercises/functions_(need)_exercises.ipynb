{
 "cells": [
  {
   "attachments": {},
   "cell_type": "markdown",
   "id": "123456",
   "metadata": {},
   "source": [
    "<div style=\"text-align:left;font-size:2em\"><span style=\"font-weight:bolder;font-size:1.25em\">SP2273 | Learning Portfolio</span><br><br><span style=\"font-weight:bold;color:darkred\">Functions (Need) Exercises</span></div>"
   ]
  },
  {
   "cell_type": "markdown",
   "id": "e8d502ee-4fd4-40ea-bf4a-cb3d37a389c3",
   "metadata": {},
   "source": [
    "Why does this work?\n",
    "```\n",
    "def greeting(name):\n",
    "    if name == 'Batman':\n",
    "        return 'Hello Batman! So, nice to meet you!'\n",
    "    return f'Hello {name}!'\n",
    "\n",
    "```\n",
    "\n",
    "The intepreter reads the code line by line, and on encountering the `if` statement the intepreter checks whether the condition is satisfied. Since it is not, it skips the block of code demarcated by the identations and the colon, skipping to the last line whereby `f'Hello {name}!'` is returned."
   ]
  },
  {
   "cell_type": "code",
   "execution_count": 8,
   "id": "c4d7a65e-8fe1-4577-af3d-2726b84d3b38",
   "metadata": {},
   "outputs": [
    {
     "name": "stdin",
     "output_type": "stream",
     "text": [
      "Input weight in kg:  70\n",
      "Input height in m:  1.78\n"
     ]
    },
    {
     "name": "stdout",
     "output_type": "stream",
     "text": [
      "Patient is normal weight\n"
     ]
    }
   ],
   "source": [
    "def calculate_bmi(height, weight):\n",
    "    bmi = weight/(height**2)\n",
    "    if 0<bmi<18.5:\n",
    "        return f'Patient is underweight'\n",
    "    elif 18.5<=bmi<25:\n",
    "        return f'Patient is normal weight'\n",
    "    elif 25<=bmi<30:\n",
    "        return f'Patient is overweight'\n",
    "    else:\n",
    "        return f'Patient is obese'\n",
    "\n",
    "w=float(input('Input weight in kg: '))\n",
    "h=float(input('Input height in m: '))\n",
    "print(calculate_bmi(h,w))\n",
    "#doesnt account for any unexpected input"
   ]
  },
  {
   "cell_type": "code",
   "execution_count": 11,
   "id": "c5cca2ad-75bd-4db0-b940-fc7920f49c9c",
   "metadata": {},
   "outputs": [
    {
     "name": "stdin",
     "output_type": "stream",
     "text": [
      "Which factorial? 14\n"
     ]
    },
    {
     "name": "stdout",
     "output_type": "stream",
     "text": [
      "Factorial of 14 is 87178291200\n"
     ]
    }
   ],
   "source": [
    "#Write a function that does factorial and handles negative input gracefully\n",
    "#factorial does not have negative inputs therefore if input < 0 then user should be prompted to give a new input\n",
    "\n",
    "def factorial(x):\n",
    "    result=1\n",
    "    for i in range(1,x+1):\n",
    "        result=result*i\n",
    "    return result\n",
    "\n",
    "x=int(0)\n",
    "while x==0:\n",
    "    userin=int(input('Which factorial?'))\n",
    "    if userin >= 0:\n",
    "        x=userin\n",
    "        break  #break is used because 0! is a valid input, but would trigger the loop to continue since x==0 is true\n",
    "    else: \n",
    "        print('That is not a valid input.')\n",
    "\n",
    "result=factorial(x)\n",
    "print(f'Factorial of {x} is {result}')"
   ]
  },
  {
   "cell_type": "code",
   "execution_count": 10,
   "id": "61d9018a-f2e1-4cc3-9ab0-97eed84bc9a7",
   "metadata": {},
   "outputs": [
    {
     "name": "stdin",
     "output_type": "stream",
     "text": [
      "Which factorial? 14\n"
     ]
    },
    {
     "name": "stdout",
     "output_type": "stream",
     "text": [
      "87178291200\n"
     ]
    }
   ],
   "source": [
    "#trying to use assert\n",
    "def factorial2(x):\n",
    "    a=1\n",
    "    for i in range(1,x+1):\n",
    "        a*=i\n",
    "    return a\n",
    "\n",
    "x=int(input('Which factorial?'))\n",
    "assert x>= 0,'Factorials for negative number does not exist'\n",
    "print(factorial2(x))\n",
    "\n",
    "# print(factorial2(7))"
   ]
  },
  {
   "cell_type": "code",
   "execution_count": null,
   "id": "2354f436-67a0-40e9-9169-65958458cb91",
   "metadata": {},
   "outputs": [],
   "source": []
  }
 ],
 "metadata": {
  "kernelspec": {
   "display_name": "Python 3 (ipykernel)",
   "language": "python",
   "name": "python3"
  },
  "language_info": {
   "codemirror_mode": {
    "name": "ipython",
    "version": 3
   },
   "file_extension": ".py",
   "mimetype": "text/x-python",
   "name": "python",
   "nbconvert_exporter": "python",
   "pygments_lexer": "ipython3",
   "version": "3.12.3"
  },
  "toc": {
   "base_numbering": 1,
   "nav_menu": {},
   "number_sections": true,
   "sideBar": true,
   "skip_h1_title": false,
   "title_cell": "Table of Contents",
   "title_sidebar": "Contents",
   "toc_cell": false,
   "toc_position": {},
   "toc_section_display": true,
   "toc_window_display": false
  },
  "vscode": {
   "interpreter": {
    "hash": "31f2aee4e71d21fbe5cf8b01ff0e069b9275f58929596ceb00d14d90e3e16cd6"
   }
  }
 },
 "nbformat": 4,
 "nbformat_minor": 5
}
