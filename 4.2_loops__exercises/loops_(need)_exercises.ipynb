{
 "cells": [
  {
   "attachments": {},
   "cell_type": "markdown",
   "id": "123456",
   "metadata": {},
   "source": [
    "<div style=\"text-align:left;font-size:2em\"><span style=\"font-weight:bolder;font-size:1.25em\">SP2273 | Learning Portfolio</span><br><br><span style=\"font-weight:bold;color:darkred\">Loops (Need) Exercises</span></div>"
   ]
  },
  {
   "cell_type": "code",
   "execution_count": 2,
   "id": "f7c9ac34-70d0-4538-8d6b-2ac0587cccb8",
   "metadata": {},
   "outputs": [
    {
     "name": "stdout",
     "output_type": "stream",
     "text": [
      "Celsius:0\tFahrenheit: 32.0\n",
      "Celsius:5\tFahrenheit: 41.0\n",
      "Celsius:10\tFahrenheit: 50.0\n",
      "Celsius:15\tFahrenheit: 59.0\n",
      "Celsius:20\tFahrenheit: 68.0\n",
      "Celsius:25\tFahrenheit: 77.0\n",
      "Celsius:30\tFahrenheit: 86.0\n",
      "Celsius:35\tFahrenheit: 95.0\n",
      "Celsius:40\tFahrenheit: 104.0\n",
      "Celsius:45\tFahrenheit: 113.0\n",
      "Celsius:50\tFahrenheit: 122.0\n"
     ]
    }
   ],
   "source": [
    "temperatures_celsius = [\n",
    "    0, 5, 10, 15, 20, 25,\n",
    "    30, 35, 40, 45, 50\n",
    "]\n",
    "#temperatures_fahrenheit\n",
    "\n",
    "for i in range(len(temperatures_celsius)):\n",
    "    print(f'Celsius:{temperatures_celsius[i]}\\tFahrenheit: {temperatures_celsius[i]*9/5+32}')"
   ]
  },
  {
   "cell_type": "code",
   "execution_count": 17,
   "id": "f1bc8941-7268-4f1c-be35-df190606265f",
   "metadata": {},
   "outputs": [
    {
     "name": "stdout",
     "output_type": "stream",
     "text": [
      "1: 1\t2\t3\t4\t5\t\n",
      "\n",
      "2: 2\t4\t6\t8\t10\t\n",
      "\n",
      "3: 3\t6\t9\t12\t15\t\n",
      "\n",
      "4: 4\t8\t12\t16\t20\t\n",
      "\n",
      "5: 5\t10\t15\t20\t25\t\n",
      "\n"
     ]
    }
   ],
   "source": [
    "for i in [1,2,3,4,5]:\n",
    "    print(i, end=': ')\n",
    "    for j in [1,2,3,4,5]:\n",
    "        print(i*j, end='\\t')\n",
    "    print('\\n')"
   ]
  },
  {
   "cell_type": "code",
   "execution_count": 15,
   "id": "df6cc793-f618-4e43-94d4-9ea661be780a",
   "metadata": {},
   "outputs": [
    {
     "name": "stdout",
     "output_type": "stream",
     "text": [
      "Experiment 1 \t: No. of Heads = 6\n",
      "Experiment 2 \t: No. of Heads = 6\n",
      "Experiment 3 \t: No. of Heads = 7\n",
      "Experiment 4 \t: No. of Heads = 6\n",
      "Experiment 5 \t: No. of Heads = 6\n",
      "Experiment 6 \t: No. of Heads = 4\n",
      "Experiment 7 \t: No. of Heads = 5\n",
      "Experiment 8 \t: No. of Heads = 4\n",
      "Experiment 9 \t: No. of Heads = 2\n",
      "Experiment 10 \t: No. of Heads = 6\n"
     ]
    }
   ],
   "source": [
    "import numpy as np\n",
    "for i in range(10):\n",
    "    flips=np.random.rand(10)\n",
    "    heads=flips>0.5\n",
    "    heads=heads.sum()\n",
    "    print('Experiment', i+1, '\\t: No. of Heads =', heads)"
   ]
  },
  {
   "cell_type": "code",
   "execution_count": null,
   "id": "70002d9a-1359-4098-b219-6724991d6870",
   "metadata": {},
   "outputs": [],
   "source": []
  }
 ],
 "metadata": {
  "kernelspec": {
   "display_name": "Python 3 (ipykernel)",
   "language": "python",
   "name": "python3"
  },
  "language_info": {
   "codemirror_mode": {
    "name": "ipython",
    "version": 3
   },
   "file_extension": ".py",
   "mimetype": "text/x-python",
   "name": "python",
   "nbconvert_exporter": "python",
   "pygments_lexer": "ipython3",
   "version": "3.12.3"
  },
  "toc": {
   "base_numbering": 1,
   "nav_menu": {},
   "number_sections": true,
   "sideBar": true,
   "skip_h1_title": false,
   "title_cell": "Table of Contents",
   "title_sidebar": "Contents",
   "toc_cell": false,
   "toc_position": {},
   "toc_section_display": true,
   "toc_window_display": false
  },
  "vscode": {
   "interpreter": {
    "hash": "31f2aee4e71d21fbe5cf8b01ff0e069b9275f58929596ceb00d14d90e3e16cd6"
   }
  }
 },
 "nbformat": 4,
 "nbformat_minor": 5
}
