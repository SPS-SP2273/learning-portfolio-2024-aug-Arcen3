{
 "cells": [
  {
   "attachments": {},
   "cell_type": "markdown",
   "id": "123456",
   "metadata": {},
   "source": [
    "<div style=\"text-align:left;font-size:2em\"><span style=\"font-weight:bolder;font-size:1.25em\">SP2273 | Learning Portfolio</span><br><br><span style=\"font-weight:bold;color:darkred\">Loops (Good) Exercises</span></div>"
   ]
  },
  {
   "cell_type": "code",
   "execution_count": 1,
   "id": "a7a90661-273b-45de-a347-542052b82adf",
   "metadata": {},
   "outputs": [
    {
     "name": "stdout",
     "output_type": "stream",
     "text": [
      "1.46 μs ± 68 ns per loop (mean ± std. dev. of 7 runs, 1,000,000 loops each)\n"
     ]
    }
   ],
   "source": [
    "%%timeit\n",
    "#using for loop\n",
    "oddsqr = list()\n",
    "for i in range(10):\n",
    "    if i%2 == 0:\n",
    "        continue\n",
    "    oddsqr += [i**2]\n",
    "#print(oddsqr)"
   ]
  },
  {
   "cell_type": "code",
   "execution_count": 2,
   "id": "19b03531-9e44-4b61-a134-1ac8fd0ca3f4",
   "metadata": {},
   "outputs": [
    {
     "name": "stdout",
     "output_type": "stream",
     "text": [
      "1.07 μs ± 76.9 ns per loop (mean ± std. dev. of 7 runs, 1,000,000 loops each)\n"
     ]
    }
   ],
   "source": [
    "%%timeit\n",
    "#using list comprehension\n",
    "\n",
    "oddsqr2=list()\n",
    "oddsqr2=[i**2 for i in range(10) if i%2==1]\n",
    "#print(oddsqr2)"
   ]
  },
  {
   "cell_type": "code",
   "execution_count": 7,
   "id": "33f69307-34b6-407f-a474-f9ac4164376a",
   "metadata": {},
   "outputs": [
    {
     "name": "stdout",
     "output_type": "stream",
     "text": [
      "14 48.76749791155295\n"
     ]
    }
   ],
   "source": [
    "i=0\n",
    "amt=100\n",
    "while amt >50:\n",
    "    i+=1\n",
    "    amt=amt*0.95\n",
    "print(i, amt)"
   ]
  },
  {
   "cell_type": "code",
   "execution_count": 26,
   "id": "f88739a1-fc7e-4321-a288-480ac6864026",
   "metadata": {},
   "outputs": [
    {
     "name": "stdout",
     "output_type": "stream",
     "text": [
      "Years: 2016 & 2015 Change:  3.41 ppm\n"
     ]
    }
   ],
   "source": [
    "import numpy as np\n",
    "co2_data = np.array([\n",
    "    (2000, 369.55), (2001, 371.14), (2002, 373.28), \n",
    "    (2003, 375.80), (2004, 377.52), (2005, 379.80), \n",
    "    (2006, 381.90), (2007, 383.79), (2008, 385.60), \n",
    "    (2009, 387.43), (2010, 389.90), (2011, 391.65), \n",
    "    (2012, 393.85), (2013, 396.52), (2014, 398.65),\n",
    "    (2015, 400.83), (2016, 404.24), (2017, 406.55), \n",
    "    (2018, 408.52), (2019, 411.44), (2020, 414.24)\n",
    "])\n",
    "\n",
    "for i in range(len(co2_data)-1):\n",
    "    if i>=len(co2_data)-1:  #why is this -1\n",
    "        break\n",
    "    if co2_data[i+1,1]-co2_data[i,1]>=3:\n",
    "        print(f'Years: {co2_data[i+1,0]:.0f} & {co2_data[i,0]:.0f} Change: {co2_data[i+1,1]-co2_data[i,1]:>5.2f} ppm')"
   ]
  },
  {
   "cell_type": "code",
   "execution_count": 11,
   "id": "c43320e3-1f77-46a6-b5ca-2f709262d8bd",
   "metadata": {},
   "outputs": [
    {
     "name": "stdout",
     "output_type": "stream",
     "text": [
      "Years: 2015, 2016 \t Change: 3.41\n"
     ]
    }
   ],
   "source": [
    "import numpy as np\n",
    "co2_data = [\n",
    "    (2000, 369.55), (2001, 371.14), (2002, 373.28), \n",
    "    (2003, 375.80), (2004, 377.52), (2005, 379.80), \n",
    "    (2006, 381.90), (2007, 383.79), (2008, 385.60), \n",
    "    (2009, 387.43), (2010, 389.90), (2011, 391.65), \n",
    "    (2012, 393.85), (2013, 396.52), (2014, 398.65),\n",
    "    (2015, 400.83), (2016, 404.24), (2017, 406.55), \n",
    "    (2018, 408.52), (2019, 411.44), (2020, 414.24)\n",
    "]\n",
    "\n",
    "#to practice this as a list\n",
    "i=0\n",
    "for year, co2 in co2_data:\n",
    "    i+=1\n",
    "    if i==len(co2_data): #no +1 since i is counting from second element onwards \n",
    "        break  #On last element of the list it will check that i=21 but last index is 20, therefore stopping the loop since it will be out of list range\n",
    "    elif co2_data[i][1] - co2 >= 3:\n",
    "        print(f'Years: {year}, {co2_data[i][0]} \\t Change: {co2_data[i][1] - co2:.2f}')\n"
   ]
  },
  {
   "cell_type": "code",
   "execution_count": null,
   "id": "ffcd2d9e-0819-437c-993e-72eef8c61e6f",
   "metadata": {},
   "outputs": [],
   "source": []
  }
 ],
 "metadata": {
  "kernelspec": {
   "display_name": "Python 3 (ipykernel)",
   "language": "python",
   "name": "python3"
  },
  "language_info": {
   "codemirror_mode": {
    "name": "ipython",
    "version": 3
   },
   "file_extension": ".py",
   "mimetype": "text/x-python",
   "name": "python",
   "nbconvert_exporter": "python",
   "pygments_lexer": "ipython3",
   "version": "3.12.3"
  },
  "toc": {
   "base_numbering": 1,
   "nav_menu": {},
   "number_sections": true,
   "sideBar": true,
   "skip_h1_title": false,
   "title_cell": "Table of Contents",
   "title_sidebar": "Contents",
   "toc_cell": false,
   "toc_position": {},
   "toc_section_display": true,
   "toc_window_display": false
  },
  "vscode": {
   "interpreter": {
    "hash": "31f2aee4e71d21fbe5cf8b01ff0e069b9275f58929596ceb00d14d90e3e16cd6"
   }
  }
 },
 "nbformat": 4,
 "nbformat_minor": 5
}
