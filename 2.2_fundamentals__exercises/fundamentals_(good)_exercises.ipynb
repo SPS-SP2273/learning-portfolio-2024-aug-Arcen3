{
 "cells": [
  {
   "attachments": {},
   "cell_type": "markdown",
   "id": "123456",
   "metadata": {},
   "source": [
    "<div style=\"text-align:left;font-size:2em\"><span style=\"font-weight:bolder;font-size:1.25em\">SP2273 | Learning Portfolio</span><br><br><span style=\"font-weight:bold;color:darkred\">Fundamentals (Good) Exercises</span></div>"
   ]
  },
  {
   "cell_type": "code",
   "execution_count": null,
   "id": "fb833496-5af9-4ee4-bec5-411586f174a4",
   "metadata": {},
   "outputs": [],
   "source": [
    "#exercise 1 task 1\n",
    "user_name = input(\"Hi! May I have your name?\")\n",
    "print(f'How you doin {user_name.upper()}!')"
   ]
  },
  {
   "cell_type": "code",
   "execution_count": null,
   "id": "3d085f11-2765-46a2-b595-d197f53235c2",
   "metadata": {},
   "outputs": [],
   "source": [
    "#exercise 1 task 2\n",
    "user_name = input(\"What is your name?\")\n",
    "user_age = input(\"What is your age?\")\n",
    "print(f'My name is {user_name} and I am {user_age} years old')"
   ]
  },
  {
   "cell_type": "code",
   "execution_count": null,
   "id": "c0031182-40a2-4520-a3cb-385fd71b3ba7",
   "metadata": {},
   "outputs": [],
   "source": [
    "#exercise 1 task 3\n",
    "pi = 3.141592653589793\n",
    "print(f'The value of pi to 2 decimal places is: {pi:.2f}')\n",
    "print(f'The value of pi to 2 decimal places is: {pi:.3f}')\n",
    "print(f'The value of pi to 2 decimal places is: {pi:.4f}')"
   ]
  },
  {
   "cell_type": "code",
   "execution_count": null,
   "id": "89374dec-038d-4620-8a5f-14424f582e5a",
   "metadata": {},
   "outputs": [],
   "source": [
    "#exercise 1 task 4\n",
    "apple_price = 0.99\n",
    "line_1 = 'Apple'\n",
    "\n",
    "banana_price = 0.59\n",
    "line_2 = 'Banana'\n",
    "\n",
    "orange_price = 1.29\n",
    "line_3 = 'Orange'\n",
    "\n",
    "print(f'{line_1:<10} $ {apple_price:>5}\\n{line_2:<10} $ {banana_price:>5}\\n{line_3:<10} $ {orange_price:>5}')"
   ]
  },
  {
   "cell_type": "code",
   "execution_count": 14,
   "id": "891209c9-a27c-432d-8ed2-bcc8b7ef388b",
   "metadata": {},
   "outputs": [
    {
     "name": "stdin",
     "output_type": "stream",
     "text": [
      "Enter the student's score: @kj\n"
     ]
    },
    {
     "name": "stdout",
     "output_type": "stream",
     "text": [
      "That is not a numeric score!\n"
     ]
    }
   ],
   "source": [
    "#exercise 2\n",
    "score = input('Enter the student\\'s score:')\n",
    "try:\n",
    "    score = float(score)\n",
    "    if 0<=score<=100:\n",
    "        grade = str()\n",
    "        if 70<=score<=100:\n",
    "            grade = 'A'\n",
    "        elif 50<=score<70:\n",
    "            grade = 'B'\n",
    "        elif 35<=score<50:\n",
    "            grade = 'C'\n",
    "        else:\n",
    "            grade = 'Fail'\n",
    "        print(f'The student\\'s letter grade is: {grade}')\n",
    "    else:\n",
    "        print('That is not a valid value!')\n",
    "        \n",
    "except:\n",
    "    print('That is not a numeric score!')\n",
    "   \n",
    "#if 0<float(score)<=100:\n",
    "#    score = float(score)\n",
    "#    grade = str()\n",
    "#   if 70<=score<=100:\n",
    "#        grade = 'A'\n",
    "#    elif 50<=score<70:\n",
    "#        grade = 'B'\n",
    "#    elif 35<=score<50:\n",
    "#        grade = 'C'\n",
    "#    else:\n",
    "#        grade = 'Fail'\n",
    "#    print(f'The student\\'s letter grade is: {grade}')\n",
    "#else:\n",
    "#    print('That is not a numeric score!')\n",
    "\n",
    "#isnumeric(), isalpha() and eval()\n",
    "#print(score,type(score))\n"
   ]
  },
  {
   "cell_type": "code",
   "execution_count": 13,
   "id": "fc615833-9ca4-4e4f-8181-8be14dcfb4b8",
   "metadata": {},
   "outputs": [
    {
     "name": "stdout",
     "output_type": "stream",
     "text": [
      "120\n",
      "Invalid input\n"
     ]
    }
   ],
   "source": [
    "def factorial(n):\n",
    "    if n < 0:\n",
    "        return \"Invalid input\"\n",
    "    elif n == 0:\n",
    "        return 1\n",
    "    else:\n",
    "        result = 1\n",
    "        for number in range(1, n+1):\n",
    "            result *= number\n",
    "        return result\n",
    "\n",
    "\n",
    "print(factorial(5))   # Testing, expected output: 120\n",
    "print(factorial(-1))  # Testing, expected output: Invalid input"
   ]
  },
  {
   "cell_type": "code",
   "execution_count": null,
   "id": "959b96a0-6ab6-49ea-ad33-36c706959447",
   "metadata": {},
   "outputs": [],
   "source": []
  }
 ],
 "metadata": {
  "kernelspec": {
   "display_name": "Python 3 (ipykernel)",
   "language": "python",
   "name": "python3"
  },
  "language_info": {
   "codemirror_mode": {
    "name": "ipython",
    "version": 3
   },
   "file_extension": ".py",
   "mimetype": "text/x-python",
   "name": "python",
   "nbconvert_exporter": "python",
   "pygments_lexer": "ipython3",
   "version": "3.12.3"
  },
  "toc": {
   "base_numbering": 1,
   "nav_menu": {},
   "number_sections": true,
   "sideBar": true,
   "skip_h1_title": false,
   "title_cell": "Table of Contents",
   "title_sidebar": "Contents",
   "toc_cell": false,
   "toc_position": {},
   "toc_section_display": true,
   "toc_window_display": false
  },
  "vscode": {
   "interpreter": {
    "hash": "31f2aee4e71d21fbe5cf8b01ff0e069b9275f58929596ceb00d14d90e3e16cd6"
   }
  }
 },
 "nbformat": 4,
 "nbformat_minor": 5
}
