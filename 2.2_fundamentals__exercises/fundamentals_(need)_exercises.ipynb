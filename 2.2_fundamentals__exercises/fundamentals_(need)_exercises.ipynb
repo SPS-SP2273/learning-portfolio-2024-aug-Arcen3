{
 "cells": [
  {
   "attachments": {},
   "cell_type": "markdown",
   "id": "123456",
   "metadata": {},
   "source": [
    "<div style=\"text-align:left;font-size:2em\"><span style=\"font-weight:bolder;font-size:1.25em\">SP2273 | Learning Portfolio</span><br><br><span style=\"font-weight:bold;color:darkred\">Fundamentals (Need) Exercises</span></div>"
   ]
  },
  {
   "cell_type": "code",
   "execution_count": null,
   "id": "ba8c1e46-6118-4c31-86f4-5ab0f1d6af66",
   "metadata": {},
   "outputs": [],
   "source": [
    "print('Hello World!')\n",
    "print('Hello World again!')"
   ]
  },
  {
   "cell_type": "markdown",
   "id": "04da8bc2-de2d-4b8b-801f-d0db045f1a6d",
   "metadata": {},
   "source": [
    "# Basic Python commands\n",
    "- print()\n",
    "- () - for calculating math\n",
    "- if, else, while, for\n",
    "- import\n",
    "- _# is comments_\n",
    "- _= and == (setting a variable equal to a value VS checking if 2 variables are equal)_\n",
    "- _[] for lists_\n",
    "- _{} for storage in a dictionary_"
   ]
  },
  {
   "cell_type": "code",
   "execution_count": 1,
   "id": "4801b70f-dcca-4b37-8698-eb9dabedbdec",
   "metadata": {},
   "outputs": [
    {
     "name": "stdout",
     "output_type": "stream",
     "text": [
      "3 4 5.0\n"
     ]
    }
   ],
   "source": [
    "#exercise 2: debugging\n",
    "import numpy as np\n",
    "x,y = 3,4\n",
    "z = np.sqrt(x*x + y*y)\n",
    "print(x,y,z)"
   ]
  },
  {
   "cell_type": "markdown",
   "id": "21d0fa2e-e111-4e13-a68e-8afc1f5b2807",
   "metadata": {},
   "source": [
    "|  # | Term         | Description                                                                                                            |\n",
    "|:--:|--------------|------------------------------------------------------------------------------------------------------------------------|\n",
    "|  1 | Function     | a command to  tell what the interpreter to do                                                                          |\n",
    "|  2 | Arguments    | To tell the interpreter to make a choice whether to run the next line of code depending on the condition that is given |\n",
    "| 3  | Comments     | A way to write down descriptions and other useful information for a reader without impeding the code                   |\n",
    "| 4  | Indentations | Tells python the                                                                                                       |\n",
    "| 5  | Packages     | A set of extra functions that is usually not available in the base python set                                          |\n",
    "| 6  | .            | Tells the interpreter which package that the following function would be from                                          |\n",
    "| 7  | :            | I havent figured it out yet                                                                                            |\n",
    "| 8  | []           | Saves data in a list form                                                                                              |\n",
    "| 9  | [[],[]]      | A list of lists                                                                                                        |\n",
    "| 10 | {}           | Storing multiple types of information in a single                                                                      |"
   ]
  },
  {
   "cell_type": "code",
   "execution_count": null,
   "id": "bcadef39-aa72-457a-8b3a-3885377db10c",
   "metadata": {},
   "outputs": [],
   "source": []
  }
 ],
 "metadata": {
  "kernelspec": {
   "display_name": "Python 3 (ipykernel)",
   "language": "python",
   "name": "python3"
  },
  "language_info": {
   "codemirror_mode": {
    "name": "ipython",
    "version": 3
   },
   "file_extension": ".py",
   "mimetype": "text/x-python",
   "name": "python",
   "nbconvert_exporter": "python",
   "pygments_lexer": "ipython3",
   "version": "3.12.3"
  },
  "toc": {
   "base_numbering": 1,
   "nav_menu": {},
   "number_sections": true,
   "sideBar": true,
   "skip_h1_title": false,
   "title_cell": "Table of Contents",
   "title_sidebar": "Contents",
   "toc_cell": false,
   "toc_position": {},
   "toc_section_display": true,
   "toc_window_display": false
  },
  "vscode": {
   "interpreter": {
    "hash": "31f2aee4e71d21fbe5cf8b01ff0e069b9275f58929596ceb00d14d90e3e16cd6"
   }
  }
 },
 "nbformat": 4,
 "nbformat_minor": 5
}
