{
 "cells": [
  {
   "cell_type": "code",
   "execution_count": 3,
   "id": "70ca76ed-9bde-491d-ad46-e7725e241bf8",
   "metadata": {},
   "outputs": [
    {
     "data": {
      "text/plain": [
       "120"
      ]
     },
     "execution_count": 3,
     "metadata": {},
     "output_type": "execute_result"
    }
   ],
   "source": [
    "def multiply(*args):\n",
    "    result = 1\n",
    "    for number in args:\n",
    "        result *= number\n",
    "\n",
    "    return result\n",
    "\n",
    "numbers = [1, 2, 3]\n",
    "multiply(*numbers)\n",
    "multiply(1, 2, 3, 4, 5)"
   ]
  },
  {
   "cell_type": "code",
   "execution_count": 11,
   "id": "59e13968-2984-4ce6-94a5-972f7136c985",
   "metadata": {},
   "outputs": [],
   "source": [
    "import numpy as np\n",
    "data=np.random.rand(10,10)\n",
    "data=data.reshape(25,4)\n",
    "np.savetxt(fname='potato.txt', X=data, fmt='%.5f', delimiter=',')\n",
    "np.savetxt(fname='potato.csv', X=data, fmt='%.4f', delimiter=',') "
   ]
  },
  {
   "cell_type": "code",
   "execution_count": 54,
   "id": "eb452fa4-2f33-407e-91d1-e1810996dc50",
   "metadata": {},
   "outputs": [
    {
     "name": "stdout",
     "output_type": "stream",
     "text": [
      "Expecting multiply value, set to 1\n",
      "55\n",
      "1029\n",
      "130\n",
      "110\n"
     ]
    }
   ],
   "source": [
    "def add_powers(**kwargs):\n",
    "    numbers = kwargs['numbers']\n",
    "    power = kwargs['power']\n",
    "\n",
    "    result = 0\n",
    "    for number in numbers:\n",
    "        result += number**power\n",
    "\n",
    "    return result\n",
    "\n",
    "def add_powers2(n,p=1,m=1,c=50):\n",
    "    r=0\n",
    "    for a in n:\n",
    "        r += a**p\n",
    "    r*=m\n",
    "    r+=c\n",
    "    return r\n",
    "\n",
    "def addp(n,p,**kwargs):\n",
    "    try:\n",
    "        m=kwargs['multiply'] #like slicing a list x[x>50] = 1, demands for a multiply\n",
    "    except:\n",
    "        m=1\n",
    "        print('Expecting multiply value, set to 1')\n",
    "    r=0\n",
    "    for a in n: \n",
    "        r += a**p\n",
    "    if m!=False:\n",
    "        r*=m\n",
    "    return r\n",
    "a=[1,2,3,4,5]\n",
    "print(addp(a,2))\n",
    "#u can use this in functions like matpplotlib kind of ui where u dont need to call all the data\n",
    "\n",
    "# Let's use the function\n",
    "# print(add_powers(numbers=[1, 2, 3], power=2))\n",
    "# kwargs = {'numbers': [1, 2, 3], 'power': 2}\n",
    "# print(add_powers(**kwargs))\n",
    "# kwargs = {'numbers': [1,23], 'power': 2}\n",
    "# print(add_powers(**kwargs))\n",
    "a=[1,2,3,4,5]\n",
    "print(add_powers2(a,4))\n",
    "print(add_powers2(a,2,c=20,m=2))\n",
    "print(add_powers2([1,2,3,4,5],m=4))\n"
   ]
  },
  {
   "cell_type": "code",
   "execution_count": 55,
   "id": "24a8a473-5aed-4c98-a237-4d18bf7dec43",
   "metadata": {},
   "outputs": [
    {
     "name": "stdout",
     "output_type": "stream",
     "text": [
      "BEFORE|\tNumber: 10(id: 140724188699352), Array: [10](id: 1547875176816), List: [10](id: 1547876036736)\n",
      "Doing something!\n",
      "INSIDE|\tNumber: 20(id: 140724188699672), Array: [20](id: 1547875176816), List: [10, 10](id: 1547876036736)\n",
      "AFTER|\tNumber: 10(id: 140724188699352), Array: [20](id: 1547875176816), List: [10, 10](id: 1547876036736)\n"
     ]
    }
   ],
   "source": [
    "def do_something(inside_number, inside_array, inside_list):\n",
    "    print('Doing something!')\n",
    "    inside_number *= 2\n",
    "    inside_array *= 2\n",
    "    inside_list *= 2\n",
    "\n",
    "    print(f\"INSIDE|\\tNumber: {inside_number}(id: {id(inside_number)}), Array: {inside_array}(id: {id(inside_array)}), List: {inside_list}(id: {id(inside_list)})\")\n",
    "\n",
    "outside_number = 10\n",
    "outside_array = np.array([10])\n",
    "outside_list = [10]\n",
    "\n",
    "print(f\"BEFORE|\\tNumber: {outside_number}(id: {id(outside_number)}), Array: {outside_array}(id: {id(outside_array)}), List: {outside_list}(id: {id(outside_list)})\")\n",
    "do_something(outside_number, outside_array, outside_list)\n",
    "print(f\"AFTER|\\tNumber: {outside_number}(id: {id(outside_number)}), Array: {outside_array}(id: {id(outside_array)}), List: {outside_list}(id: {id(outside_list)})\")"
   ]
  },
  {
   "cell_type": "code",
   "execution_count": null,
   "id": "ad62ab6d-b932-416b-a354-b67f8f9a832e",
   "metadata": {},
   "outputs": [],
   "source": []
  }
 ],
 "metadata": {
  "kernelspec": {
   "display_name": "Python 3 (ipykernel)",
   "language": "python",
   "name": "python3"
  },
  "language_info": {
   "codemirror_mode": {
    "name": "ipython",
    "version": 3
   },
   "file_extension": ".py",
   "mimetype": "text/x-python",
   "name": "python",
   "nbconvert_exporter": "python",
   "pygments_lexer": "ipython3",
   "version": "3.12.3"
  }
 },
 "nbformat": 4,
 "nbformat_minor": 5
}
