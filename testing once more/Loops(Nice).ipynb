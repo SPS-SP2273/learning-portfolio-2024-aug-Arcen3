{
 "cells": [
  {
   "cell_type": "code",
   "execution_count": 4,
   "id": "f498037d-1e5e-4aed-bfca-47bee734c228",
   "metadata": {},
   "outputs": [
    {
     "name": "stdout",
     "output_type": "stream",
     "text": [
      "['apple', 'banana', 'jackfruit', 'papaya', 'watermelons', 'durian', 'mangoes', 'strawberries']\n",
      "['apple', 'banana', 'jackfruit', 'watermelons', 'durian', 'mangoes', 'strawberries']\n"
     ]
    }
   ],
   "source": [
    "fruits = ['apple','banana','jackfruit','pineapple','papaya',\n",
    "         'watermelons','peaches','durian','mangoes','strawberries','passionfruit']\n",
    "\n",
    "for fruit in fruits:\n",
    "    if fruit[0]=='p':\n",
    "        fruits.remove(fruit)\n",
    "\n",
    "print(fruits)\n",
    "\n",
    "fruits = ['apple','banana','jackfruit','pineapple','papaya',\n",
    "         'watermelons','peaches','durian','mangoes','strawberries','passionfruit']\n",
    "length=len(fruits)\n",
    "i=int(0)\n",
    "while i < length:\n",
    "    if (fruits[i])[0]=='p':\n",
    "        fruits.remove(fruits[i])\n",
    "        length=length-1\n",
    "        i-=1\n",
    "    i+=1\n",
    "\n",
    "print(fruits)"
   ]
  },
  {
   "cell_type": "code",
   "execution_count": 7,
   "id": "5339ff3e-960c-4f97-9a66-f30d1eb4c572",
   "metadata": {},
   "outputs": [
    {
     "name": "stdout",
     "output_type": "stream",
     "text": [
      "['apple', 'banana', 'jackfruit', 'watermelons', 'durian', 'mangoes', 'strawberries']\n"
     ]
    }
   ],
   "source": [
    "fruits = ['apple','banana','jackfruit','pineapple','papaya',\n",
    "         'watermelons','peaches','durian','mangoes','strawberries','passionfruit']\n",
    "copy=fruits.copy()\n",
    "for fruit in copy:\n",
    "    if fruit[0] =='p':\n",
    "        fruits.remove(fruit)\n",
    "print(fruits)\n",
    "#rather than creating a way to reduce the counter, this way removes the need to modify the counter number by just making it loop through a copy of the \n",
    "#list instead, which accounts for the skip when an element from fruits is removed (ie papaya index decreases by 1 when the previous element is removed)"
   ]
  },
  {
   "cell_type": "code",
   "execution_count": 10,
   "id": "a1d216c9-b7c9-451f-9c32-5879f853c8c0",
   "metadata": {},
   "outputs": [
    {
     "name": "stdout",
     "output_type": "stream",
     "text": [
      "[[1, 1, 1], [2, 4, 8], [3, 9, 27], [4, 16, 64], [5, 25, 125]]\n"
     ]
    }
   ],
   "source": [
    "maximum_n=5\n",
    "# result=[[]]*maximum_n -> this creates a list, where all 5 lists inside point to the same original  list\n",
    "result=[[] for a in range(maximum_n)]\n",
    "\n",
    "for n in range(1,maximum_n+1):\n",
    "    result[n-1].append(n)\n",
    "    result[n-1].append(n**2)\n",
    "    result[n-1].append(n**3)\n",
    "\n",
    "print(result)"
   ]
  },
  {
   "cell_type": "code",
   "execution_count": null,
   "id": "f13d5305-3eac-41e0-863f-6347a2c0817e",
   "metadata": {},
   "outputs": [],
   "source": []
  }
 ],
 "metadata": {
  "kernelspec": {
   "display_name": "Python 3 (ipykernel)",
   "language": "python",
   "name": "python3"
  },
  "language_info": {
   "codemirror_mode": {
    "name": "ipython",
    "version": 3
   },
   "file_extension": ".py",
   "mimetype": "text/x-python",
   "name": "python",
   "nbconvert_exporter": "python",
   "pygments_lexer": "ipython3",
   "version": "3.12.3"
  }
 },
 "nbformat": 4,
 "nbformat_minor": 5
}
