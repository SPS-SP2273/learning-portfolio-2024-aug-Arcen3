{
 "cells": [
  {
   "cell_type": "code",
   "execution_count": null,
   "id": "2d47872c-6382-45ae-be46-e8da84cf3217",
   "metadata": {},
   "outputs": [],
   "source": [
    "while True:\n",
    "    print('*', end='')\n",
    "#this almost crashed my laptop"
   ]
  },
  {
   "cell_type": "code",
   "execution_count": null,
   "id": "371bfffb-6049-4adc-a368-adba5d1cd0fc",
   "metadata": {},
   "outputs": [],
   "source": [
    "print = 'PRINT'\n",
    "print('Hello World')\n",
    "#why"
   ]
  },
  {
   "cell_type": "code",
   "execution_count": 9,
   "id": "ae5ae972-f4e1-43f5-a568-1fe2cc50359d",
   "metadata": {},
   "outputs": [
    {
     "name": "stdout",
     "output_type": "stream",
     "text": [
      "777 ns ± 35.5 ns per loop (mean ± std. dev. of 7 runs, 1,000,000 loops each)\n"
     ]
    }
   ],
   "source": [
    "%%timeit x=1\n",
    "squares = [i**2 for i in range(10)]\n"
   ]
  },
  {
   "cell_type": "code",
   "execution_count": 10,
   "id": "754510fc-2082-4ff9-88fc-a372b4a2cdfc",
   "metadata": {},
   "outputs": [
    {
     "name": "stdout",
     "output_type": "stream",
     "text": [
      "1.05 μs ± 42.3 ns per loop (mean ± std. dev. of 7 runs, 1,000,000 loops each)\n"
     ]
    }
   ],
   "source": [
    "%%timeit x=1\n",
    "squares = list()\n",
    "for i in range(10):\n",
    "    squares.append(i**2)\n"
   ]
  },
  {
   "cell_type": "markdown",
   "id": "9e96065d-e3a3-44a3-bdef-2ad2700939ec",
   "metadata": {},
   "source": [
    "First number in `%%timeit` would give the average time of each loop of the code, from the average of 1,000,000 loops that was done by the interpreter.\n",
    "The second number then gives the standard deviation of the average time per loop.\n",
    "\n",
    "One loop is running the code from the first line to the last line once.\n",
    "\n",
    "Question tho:\n",
    "What is the x value for in `%%timeit`?\n"
   ]
  },
  {
   "cell_type": "code",
   "execution_count": null,
   "id": "431b0a7f-cd0f-4708-976d-48a566136066",
   "metadata": {},
   "outputs": [],
   "source": []
  }
 ],
 "metadata": {
  "kernelspec": {
   "display_name": "Python 3 (ipykernel)",
   "language": "python",
   "name": "python3"
  },
  "language_info": {
   "codemirror_mode": {
    "name": "ipython",
    "version": 3
   },
   "file_extension": ".py",
   "mimetype": "text/x-python",
   "name": "python",
   "nbconvert_exporter": "python",
   "pygments_lexer": "ipython3",
   "version": "3.12.3"
  }
 },
 "nbformat": 4,
 "nbformat_minor": 5
}
