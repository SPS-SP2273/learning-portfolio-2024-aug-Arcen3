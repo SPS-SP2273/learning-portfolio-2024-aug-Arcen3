{
 "cells": [
  {
   "attachments": {},
   "cell_type": "markdown",
   "id": "123456",
   "metadata": {},
   "source": [
    "<div style=\"text-align:left;font-size:2em\"><span style=\"font-weight:bolder;font-size:1.25em\">SP2273 | Learning Portfolio</span><br><br><span style=\"font-weight:bold;color:darkred\">Fundamentals (Good)</span></div>"
   ]
  },
  {
   "attachments": {},
   "cell_type": "markdown",
   "id": "00da022f",
   "metadata": {},
   "source": [
    "# What to expect in this chapter"
   ]
  },
  {
   "attachments": {},
   "cell_type": "markdown",
   "id": "73db847b",
   "metadata": {},
   "source": [
    "# 1 There is more to if"
   ]
  },
  {
   "cell_type": "code",
   "execution_count": 16,
   "id": "6f2b9e20-dda8-4af1-99fc-3904acbaf476",
   "metadata": {},
   "outputs": [],
   "source": [
    "import numpy as np"
   ]
  },
  {
   "attachments": {},
   "cell_type": "markdown",
   "id": "cc36a6b5",
   "metadata": {},
   "source": [
    "# 2 Asking questions"
   ]
  },
  {
   "cell_type": "code",
   "execution_count": 2,
   "id": "d2b6e1e5-a927-4068-b730-7e1959c47c23",
   "metadata": {},
   "outputs": [],
   "source": [
    "fruits = ['apple', 'banana', 'pineapple', 'jackfruit']\n",
    "vegetables = ['celery', 'potato', 'broccoli', 'kale']"
   ]
  },
  {
   "cell_type": "code",
   "execution_count": 3,
   "id": "4d4d1620-0b27-432c-9fbb-ece004fafee0",
   "metadata": {},
   "outputs": [
    {
     "data": {
      "text/plain": [
       "True"
      ]
     },
     "execution_count": 3,
     "metadata": {},
     "output_type": "execute_result"
    }
   ],
   "source": [
    "'apple' in fruits"
   ]
  },
  {
   "cell_type": "code",
   "execution_count": 4,
   "id": "bfaccf55-acc6-465b-b4b5-51b9042861fa",
   "metadata": {},
   "outputs": [
    {
     "data": {
      "text/plain": [
       "False"
      ]
     },
     "execution_count": 4,
     "metadata": {},
     "output_type": "execute_result"
    }
   ],
   "source": [
    "'peach' in fruits"
   ]
  },
  {
   "cell_type": "code",
   "execution_count": 5,
   "id": "b1009092-0daa-4ac5-8261-c98a4ad4ae7f",
   "metadata": {},
   "outputs": [
    {
     "data": {
      "text/plain": [
       "True"
      ]
     },
     "execution_count": 5,
     "metadata": {},
     "output_type": "execute_result"
    }
   ],
   "source": [
    "('apple' in fruits) and ('celery' in vegetables)"
   ]
  },
  {
   "cell_type": "code",
   "execution_count": 6,
   "id": "67aa94fa-1e70-48dd-ae68-35c15d674004",
   "metadata": {},
   "outputs": [
    {
     "data": {
      "text/plain": [
       "True"
      ]
     },
     "execution_count": 6,
     "metadata": {},
     "output_type": "execute_result"
    }
   ],
   "source": [
    "('apple' in fruits) or ('peach' in fruits)"
   ]
  },
  {
   "cell_type": "code",
   "execution_count": 7,
   "id": "4feb9a26-9067-4855-a156-fea2dc725c46",
   "metadata": {},
   "outputs": [
    {
     "data": {
      "text/plain": [
       "True"
      ]
     },
     "execution_count": 7,
     "metadata": {},
     "output_type": "execute_result"
    }
   ],
   "source": [
    "'app' in 'apple' #does this just check if the string 'app' is in 'apple'?"
   ]
  },
  {
   "cell_type": "code",
   "execution_count": 8,
   "id": "292115c8-c3fa-42d9-9e50-4402fd59f88e",
   "metadata": {},
   "outputs": [
    {
     "data": {
      "text/plain": [
       "False"
      ]
     },
     "execution_count": 8,
     "metadata": {},
     "output_type": "execute_result"
    }
   ],
   "source": [
    "'apples' > \"oranges\" #operating system sees the letters as numbers and just compares those in the background"
   ]
  },
  {
   "attachments": {},
   "cell_type": "markdown",
   "id": "26a7a0dd",
   "metadata": {},
   "source": [
    "## 2.1 Asking Math questions"
   ]
  },
  {
   "cell_type": "code",
   "execution_count": 11,
   "id": "44a05fed-cdef-4cf3-b47f-592844d1811d",
   "metadata": {},
   "outputs": [
    {
     "name": "stdout",
     "output_type": "stream",
     "text": [
      "True\n",
      "True\n"
     ]
    },
    {
     "data": {
      "text/plain": [
       "False"
      ]
     },
     "execution_count": 11,
     "metadata": {},
     "output_type": "execute_result"
    }
   ],
   "source": [
    "#python uses all 3 of them\n",
    "x = 7\n",
    "\n",
    "y = (x>5 and x<15)\n",
    "print(y)\n",
    "print((x>5) and (x<15))\n",
    "7<x<15"
   ]
  },
  {
   "attachments": {},
   "cell_type": "markdown",
   "id": "16fdc1ce",
   "metadata": {},
   "source": [
    "# 3 Python stores information in different formats or types"
   ]
  },
  {
   "cell_type": "code",
   "execution_count": 12,
   "id": "384151e1-a9fb-412e-bc99-37fd64f37425",
   "metadata": {},
   "outputs": [
    {
     "name": "stdout",
     "output_type": "stream",
     "text": [
      "Original: 1.234 <class 'float'>\n"
     ]
    }
   ],
   "source": [
    "x=1.234\n",
    "print('Original:',x,type(x)) #python chooses to use the most suitable type to store the data\n",
    "\n",
    "#using integers for math will yield exact numbers/results but with floats it will not be the same/exact"
   ]
  },
  {
   "cell_type": "code",
   "execution_count": 13,
   "id": "365774c0-fbde-4c53-9024-b4ee4ed341df",
   "metadata": {},
   "outputs": [
    {
     "name": "stdout",
     "output_type": "stream",
     "text": [
      "Original: 1 <class 'int'>\n"
     ]
    }
   ],
   "source": [
    "x=int(1.234)\n",
    "print('Original:',x,type(x)) #note that the decimal points are dropped for the x value here, since it is not a float anymore"
   ]
  },
  {
   "cell_type": "code",
   "execution_count": 14,
   "id": "509d7b68-3c27-42f3-ba32-bb20e9de3e85",
   "metadata": {},
   "outputs": [
    {
     "name": "stdout",
     "output_type": "stream",
     "text": [
      "Original: 1.234 <class 'str'>\n"
     ]
    }
   ],
   "source": [
    "x=str(1.234)\n",
    "print('Original:',x,type(x)) #treated as text instead"
   ]
  },
  {
   "cell_type": "code",
   "execution_count": 15,
   "id": "968fadcc-847c-4698-9396-177377afc075",
   "metadata": {},
   "outputs": [
    {
     "data": {
      "text/plain": [
       "'1.2341.2341.2341.2341.234'"
      ]
     },
     "execution_count": 15,
     "metadata": {},
     "output_type": "execute_result"
    }
   ],
   "source": [
    "'1.234'*5"
   ]
  },
  {
   "cell_type": "code",
   "execution_count": 19,
   "id": "fcceaa4f-a932-4106-b80c-17e858fcc4e8",
   "metadata": {},
   "outputs": [
    {
     "name": "stdout",
     "output_type": "stream",
     "text": [
      "2.0\n",
      "123123\n"
     ]
    },
    {
     "data": {
      "text/plain": [
       "'123112'"
      ]
     },
     "execution_count": 19,
     "metadata": {},
     "output_type": "execute_result"
    }
   ],
   "source": [
    "print(np.sqrt(4))\n",
    "print('123123')\n",
    "x = str(123112)\n",
    "x"
   ]
  },
  {
   "attachments": {},
   "cell_type": "markdown",
   "id": "58cb5f94",
   "metadata": {},
   "source": [
    "# 4 Never compare floats directly"
   ]
  },
  {
   "cell_type": "code",
   "execution_count": 20,
   "id": "d4e433e1-0556-421d-aa1a-d67bb1237a60",
   "metadata": {},
   "outputs": [
    {
     "data": {
      "text/plain": [
       "False"
      ]
     },
     "execution_count": 20,
     "metadata": {},
     "output_type": "execute_result"
    }
   ],
   "source": [
    "a = 0.1\n",
    "a3 = 0.3\n",
    "a * 3 == a3"
   ]
  },
  {
   "cell_type": "code",
   "execution_count": 21,
   "id": "756e34b5-bf3a-4c33-a26a-4708b47083e2",
   "metadata": {},
   "outputs": [
    {
     "data": {
      "text/plain": [
       "'0.29999999999999999'"
      ]
     },
     "execution_count": 21,
     "metadata": {},
     "output_type": "execute_result"
    }
   ],
   "source": [
    "f'{0.3:.17f}'"
   ]
  },
  {
   "cell_type": "code",
   "execution_count": 22,
   "id": "2d5c16ef-8485-43e5-b544-f362e3baa4bc",
   "metadata": {},
   "outputs": [
    {
     "data": {
      "text/plain": [
       "True"
      ]
     },
     "execution_count": 22,
     "metadata": {},
     "output_type": "execute_result"
    }
   ],
   "source": [
    "eps = 1E-6\n",
    "abs(a3 - a*3) < eps"
   ]
  },
  {
   "cell_type": "code",
   "execution_count": 23,
   "id": "6d6df89e-df8e-4009-982f-bd8f2fe56c7b",
   "metadata": {},
   "outputs": [
    {
     "data": {
      "text/plain": [
       "np.True_"
      ]
     },
     "execution_count": 23,
     "metadata": {},
     "output_type": "execute_result"
    }
   ],
   "source": [
    "np.isclose(a3, a*3)"
   ]
  },
  {
   "attachments": {},
   "cell_type": "markdown",
   "id": "72643d69",
   "metadata": {},
   "source": [
    "## 4.1 The Problem"
   ]
  },
  {
   "attachments": {},
   "cell_type": "markdown",
   "id": "6999017b",
   "metadata": {},
   "source": [
    "## 4.2 A solution"
   ]
  },
  {
   "attachments": {},
   "cell_type": "markdown",
   "id": "139b344c",
   "metadata": {},
   "source": [
    "# 5 Combining English and variables"
   ]
  },
  {
   "cell_type": "code",
   "execution_count": 25,
   "id": "eccbe2d5-2e95-4494-b99d-b6bbab2d683b",
   "metadata": {},
   "outputs": [
    {
     "name": "stdout",
     "output_type": "stream",
     "text": [
      "Hello Potato Launcher!\n",
      "Hello POTATO LAUNCHER!\n"
     ]
    }
   ],
   "source": [
    "name = \"Potato Launcher\"\n",
    "print(f\"Hello {name}!\") #f --> f-string or str interpolation\n",
    "print(f\"Hello {name.upper()}!\")"
   ]
  },
  {
   "cell_type": "code",
   "execution_count": 26,
   "id": "fc1c8d1a-fd0e-43b9-9ba3-7573155a143c",
   "metadata": {},
   "outputs": [
    {
     "name": "stdout",
     "output_type": "stream",
     "text": [
      "The value of 10 squared is 100!\n"
     ]
    }
   ],
   "source": [
    "x = 10\n",
    "print(f\"The value of {x} squared is {x**2}!\")"
   ]
  },
  {
   "cell_type": "code",
   "execution_count": 27,
   "id": "64843f82-e323-47ac-b660-e097981fd448",
   "metadata": {},
   "outputs": [
    {
     "name": "stdout",
     "output_type": "stream",
     "text": [
      "Bruce Wayne is Batman.\n"
     ]
    }
   ],
   "source": [
    "text = 'Bruce Wayne is Batman.'\n",
    "print(f'{text}')"
   ]
  },
  {
   "cell_type": "code",
   "execution_count": 28,
   "id": "f4529a83-76b0-4d77-a2e6-a852a29c6e7d",
   "metadata": {},
   "outputs": [
    {
     "name": "stdout",
     "output_type": "stream",
     "text": [
      "        Bruce Wayne is Batman.\n"
     ]
    }
   ],
   "source": [
    "print(f'{text:>30}')      # A block of 30 characters;\n",
    "                          # aligned right\n",
    "#total characters here is 30"
   ]
  },
  {
   "cell_type": "code",
   "execution_count": 37,
   "id": "95c1015a-c6a6-4c52-b5e3-d904461a0b4d",
   "metadata": {},
   "outputs": [
    {
     "name": "stdout",
     "output_type": "stream",
     "text": [
      "The cube of pi to 6 decimal places is 31.006277\n",
      "The cube of pi to 6 decimal places is         3.100628e+01, 31.006277\n"
     ]
    }
   ],
   "source": [
    "print(f'The cube of pi to 6 decimal places is {np.pi**3:.6f}') #.6f = decimal points to 6 dp.\n",
    "print(f'The cube of pi to 6 decimal places is {np.pi**3:20.6e}, {np.pi**3:.6f}') #20 is the total no. of characters"
   ]
  },
  {
   "attachments": {},
   "cell_type": "markdown",
   "id": "a971c32c",
   "metadata": {},
   "source": [
    "# 6 Escape sequences"
   ]
  },
  {
   "cell_type": "code",
   "execution_count": 2,
   "id": "a13f46e5-6769-4a22-b493-2daaa003ba48",
   "metadata": {},
   "outputs": [
    {
     "name": "stdout",
     "output_type": "stream",
     "text": [
      "A\\B\\C\n",
      "A\n",
      "B\tC\n"
     ]
    }
   ],
   "source": [
    "print('A\\\\B\\\\C')\n",
    "print('A\\nB\\tC') #if only \\ was used, then it would treat B and C as escape sequences but these do not exist, resulting in error"
   ]
  },
  {
   "attachments": {},
   "cell_type": "markdown",
   "id": "a3017603",
   "metadata": {},
   "source": [
    "## 6.1 Self-documenting f-strings"
   ]
  },
  {
   "attachments": {},
   "cell_type": "markdown",
   "id": "aac5c320",
   "metadata": {},
   "source": [
    "# 7 Computers read = from Right to Left!"
   ]
  },
  {
   "cell_type": "code",
   "execution_count": 3,
   "id": "e3f167ae-0eb6-4ae3-a774-0cdd95168dd8",
   "metadata": {},
   "outputs": [
    {
     "name": "stdout",
     "output_type": "stream",
     "text": [
      "42\n"
     ]
    }
   ],
   "source": [
    "y = 40\n",
    "y = y + 2\n",
    "print(y)"
   ]
  },
  {
   "cell_type": "code",
   "execution_count": 6,
   "id": "24643d92-161c-46e2-9283-2e171a9af19f",
   "metadata": {},
   "outputs": [
    {
     "name": "stdout",
     "output_type": "stream",
     "text": [
      "first output is 42\n",
      "second output is 42.000\n"
     ]
    }
   ],
   "source": [
    "y = 40\n",
    "y = y + 2\n",
    "print('first output is',y)\n",
    "y = 40\n",
    "y += 2    # Same as y = y + 2\n",
    "print(f'second output is {y:.3f}')"
   ]
  },
  {
   "attachments": {},
   "cell_type": "markdown",
   "id": "adff114b",
   "metadata": {},
   "source": [
    "# 8 Shorter and Cleaner Code"
   ]
  },
  {
   "cell_type": "code",
   "execution_count": 9,
   "id": "15ffe90d-951d-41dc-89c5-136c1d2f3d9c",
   "metadata": {},
   "outputs": [
    {
     "name": "stdout",
     "output_type": "stream",
     "text": [
      "10 <class 'int'>\n",
      "5.0\n",
      "15.0\n",
      "18.0 <class 'float'>\n"
     ]
    }
   ],
   "source": [
    "#this refers to the use of shorthand like +=, -=, *=, /=\n",
    "y=10\n",
    "print(y,type(y))\n",
    "y /= 2\n",
    "print(y)\n",
    "y *= 3\n",
    "print(y)\n",
    "y += 3\n",
    "print(y,type(y))\n",
    "\n",
    "#why is there a .0 at the back of the results?"
   ]
  },
  {
   "attachments": {},
   "cell_type": "markdown",
   "id": "db2bac4f",
   "metadata": {},
   "source": [
    "# 9 Python can be a prima-donna.\n",
    "Talks about the debugging of python which will learn through experience"
   ]
  },
  {
   "attachments": {},
   "cell_type": "markdown",
   "id": "7739cc8d",
   "metadata": {},
   "source": [
    "# 10 Best Practices for Scientific Computing"
   ]
  },
  {
   "attachments": {},
   "cell_type": "markdown",
   "id": "8c6f58e5",
   "metadata": {},
   "source": [
    "# 11 Looking for help"
   ]
  },
  {
   "attachments": {},
   "cell_type": "markdown",
   "id": "ff78c285",
   "metadata": {},
   "source": [
    "## References"
   ]
  },
  {
   "attachments": {},
   "cell_type": "markdown",
   "id": "0e5a8249",
   "metadata": {},
   "source": [
    "## Footnotes"
   ]
  }
 ],
 "metadata": {
  "kernelspec": {
   "display_name": "Python 3 (ipykernel)",
   "language": "python",
   "name": "python3"
  },
  "language_info": {
   "codemirror_mode": {
    "name": "ipython",
    "version": 3
   },
   "file_extension": ".py",
   "mimetype": "text/x-python",
   "name": "python",
   "nbconvert_exporter": "python",
   "pygments_lexer": "ipython3",
   "version": "3.12.3"
  },
  "toc": {
   "base_numbering": 1,
   "nav_menu": {},
   "number_sections": true,
   "sideBar": true,
   "skip_h1_title": false,
   "title_cell": "Table of Contents",
   "title_sidebar": "Contents",
   "toc_cell": false,
   "toc_position": {},
   "toc_section_display": true,
   "toc_window_display": false
  },
  "vscode": {
   "interpreter": {
    "hash": "31f2aee4e71d21fbe5cf8b01ff0e069b9275f58929596ceb00d14d90e3e16cd6"
   }
  }
 },
 "nbformat": 4,
 "nbformat_minor": 5
}
