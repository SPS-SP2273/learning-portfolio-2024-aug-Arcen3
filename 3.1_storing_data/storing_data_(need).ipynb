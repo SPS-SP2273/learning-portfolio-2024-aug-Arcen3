{
 "cells": [
  {
   "attachments": {},
   "cell_type": "markdown",
   "id": "123456",
   "metadata": {},
   "source": [
    "<div style=\"text-align:left;font-size:2em\"><span style=\"font-weight:bolder;font-size:1.25em\">SP2273 | Learning Portfolio</span><br><br><span style=\"font-weight:bold;color:darkred\">Storing Data (Need)</span></div>"
   ]
  },
  {
   "attachments": {},
   "cell_type": "markdown",
   "id": "e2ac737e",
   "metadata": {},
   "source": [
    "# What to expect in this chapter"
   ]
  },
  {
   "attachments": {},
   "cell_type": "markdown",
   "id": "0bf9d671",
   "metadata": {},
   "source": [
    "# 1 Lists, Arrays & Dictionaries"
   ]
  },
  {
   "cell_type": "code",
   "execution_count": 12,
   "id": "1803f483-7a50-4828-b90b-533dfce640cb",
   "metadata": {},
   "outputs": [
    {
     "name": "stdout",
     "output_type": "stream",
     "text": [
      "Black Widow\n",
      "hello\n",
      "Doctor Strange\n",
      "dict_keys(['Natasha Romanoff', 'Tony Stark', 'Stephen Strange']) \t dict_values(['Black Widow', 'Iron Man', 'Doctor Strange'])\n"
     ]
    }
   ],
   "source": [
    "import numpy as np\n",
    "#python default list\n",
    "py_super_names = [\"Black Widow\", \"Iron Man\", \"Doctor Strange\"]\n",
    "py_real_names = [\"Natasha Romanoff\", \"Tony Stark\", \"Stephen Strange\"]\n",
    "#numpy array below\n",
    "np_super_names = np.array([\"Black Widow\", \"Iron Man\", \"Doctor Strange\"])\n",
    "np_real_names = np.array([\"Natasha Romanoff\", \"Tony Stark\", \"Stephen Strange\"])\n",
    "#python dictionary - attaches a key name to a data value?\n",
    "superhero_info = {\n",
    "    \"Natasha Romanoff\": \"Black Widow\",\n",
    "    \"Tony Stark\": \"Iron Man\",\n",
    "    \"Stephen Strange\": \"Doctor Strange\"\n",
    "}\n",
    "print(py_super_names[0])\n",
    "print('hello')\n",
    "print(py_super_names[-1])\n",
    "print(f'{superhero_info.keys()} \\t {superhero_info.values()}')"
   ]
  },
  {
   "cell_type": "code",
   "execution_count": 10,
   "id": "0536440f-9df0-4799-b4fb-313b774ec9a9",
   "metadata": {},
   "outputs": [
    {
     "name": "stdout",
     "output_type": "stream",
     "text": [
      "[1, 2, 3, 1, 2, 3]\n",
      "[5 6 7]\n"
     ]
    }
   ],
   "source": [
    "py_list = [1,2,3]\n",
    "np_array = np.array(py_list)\n",
    "np_array = np_array + 4\n",
    "py_list = py_list*2\n",
    "print(py_list)\n",
    "print(np_array)"
   ]
  },
  {
   "attachments": {},
   "cell_type": "markdown",
   "id": "34e562eb",
   "metadata": {},
   "source": [
    "## 1.1 Let’s compare"
   ]
  },
  {
   "attachments": {},
   "cell_type": "markdown",
   "id": "a29ab013",
   "metadata": {},
   "source": [
    "## 1.2 Accessing data from a list (or array)"
   ]
  },
  {
   "attachments": {},
   "cell_type": "markdown",
   "id": "3fb6fee9",
   "metadata": {},
   "source": [
    "## 1.3 Accessing data from a dictionary"
   ]
  },
  {
   "attachments": {},
   "cell_type": "markdown",
   "id": "e63b739e",
   "metadata": {},
   "source": [
    "## 1.4 Higher dimensional lists"
   ]
  },
  {
   "attachments": {},
   "cell_type": "markdown",
   "id": "2ff546e4",
   "metadata": {},
   "source": [
    "# 2 Lists vs. Arrays"
   ]
  },
  {
   "cell_type": "code",
   "execution_count": 19,
   "id": "6b757c0d-13fa-45d8-83a9-25d24cfa2b2b",
   "metadata": {},
   "outputs": [
    {
     "name": "stdout",
     "output_type": "stream",
     "text": [
      "10\n",
      "10\n",
      "(10, 2)\n",
      "E\n",
      "E\n"
     ]
    }
   ],
   "source": [
    "py_list_2d = [[1, \"A\"], [2, \"B\"], [3, \"C\"], [4, \"D\"],\n",
    "              [5, \"E\"], [6, \"F\"], [7, \"G\"], [8, \"H\"],\n",
    "              [9, \"I\"], [10, \"J\"]]\n",
    "\n",
    "np_array_2d = np.array(py_list_2d)      # Reusing the Python list \n",
    "                                        # to create a NEW\n",
    "                                        # NumPy array\n",
    "\n",
    "print(len(py_list_2d))\n",
    "print(len(np_array_2d))\n",
    "print(np_array_2d.shape)  #shape is not a function, its attribute therefore no need to add () behind\n",
    "print(np_array_2d[4,1])  #np needs everything in one type of data e.g. all int/all txt\n",
    "print(py_list_2d[4][1])  #list is okay with inhomegenous shape"
   ]
  },
  {
   "attachments": {},
   "cell_type": "markdown",
   "id": "11b2042e",
   "metadata": {},
   "source": [
    "## 2.1 Size"
   ]
  },
  {
   "attachments": {},
   "cell_type": "markdown",
   "id": "09aa950b",
   "metadata": {},
   "source": [
    "## 2.2 Arrays are fussy about type"
   ]
  },
  {
   "cell_type": "code",
   "execution_count": 20,
   "id": "cc20ac41-f2b6-4e22-bc9e-40bb2009e93b",
   "metadata": {},
   "outputs": [
    {
     "name": "stdout",
     "output_type": "stream",
     "text": [
      "[False False False  True  True]\n"
     ]
    }
   ],
   "source": [
    "py_list = [1, 2, 3, 4, 5]\n",
    "np_array = np.array(py_list)         \n",
    "print(np_array > 3)"
   ]
  },
  {
   "attachments": {},
   "cell_type": "markdown",
   "id": "6fa9c30a",
   "metadata": {},
   "source": [
    "## 2.3 Adding a number"
   ]
  },
  {
   "attachments": {},
   "cell_type": "markdown",
   "id": "a5a3e071",
   "metadata": {},
   "source": [
    "## 2.4 Adding another list"
   ]
  },
  {
   "attachments": {},
   "cell_type": "markdown",
   "id": "e6941b9b",
   "metadata": {},
   "source": [
    "## 2.5 Multiplying by a Number"
   ]
  },
  {
   "attachments": {},
   "cell_type": "markdown",
   "id": "53e43ff1",
   "metadata": {},
   "source": [
    "## 2.6 Squaring"
   ]
  },
  {
   "attachments": {},
   "cell_type": "markdown",
   "id": "c1502f98",
   "metadata": {},
   "source": [
    "## 2.7 Asking questions"
   ]
  },
  {
   "attachments": {},
   "cell_type": "markdown",
   "id": "803c92b0",
   "metadata": {},
   "source": [
    "## 2.8 Mathematics"
   ]
  },
  {
   "attachments": {},
   "cell_type": "markdown",
   "id": "0344307e",
   "metadata": {},
   "source": [
    "## Footnotes"
   ]
  }
 ],
 "metadata": {
  "kernelspec": {
   "display_name": "Python 3 (ipykernel)",
   "language": "python",
   "name": "python3"
  },
  "language_info": {
   "codemirror_mode": {
    "name": "ipython",
    "version": 3
   },
   "file_extension": ".py",
   "mimetype": "text/x-python",
   "name": "python",
   "nbconvert_exporter": "python",
   "pygments_lexer": "ipython3",
   "version": "3.12.3"
  },
  "toc": {
   "base_numbering": 1,
   "nav_menu": {},
   "number_sections": true,
   "sideBar": true,
   "skip_h1_title": false,
   "title_cell": "Table of Contents",
   "title_sidebar": "Contents",
   "toc_cell": false,
   "toc_position": {},
   "toc_section_display": true,
   "toc_window_display": false
  },
  "vscode": {
   "interpreter": {
    "hash": "31f2aee4e71d21fbe5cf8b01ff0e069b9275f58929596ceb00d14d90e3e16cd6"
   }
  }
 },
 "nbformat": 4,
 "nbformat_minor": 5
}
