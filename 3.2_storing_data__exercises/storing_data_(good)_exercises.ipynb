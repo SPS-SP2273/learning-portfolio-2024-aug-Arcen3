{
 "cells": [
  {
   "attachments": {},
   "cell_type": "markdown",
   "id": "123456",
   "metadata": {},
   "source": [
    "<div style=\"text-align:left;font-size:2em\"><span style=\"font-weight:bolder;font-size:1.25em\">SP2273 | Learning Portfolio</span><br><br><span style=\"font-weight:bold;color:darkred\">Storing Data (Good) Exercises</span></div>"
   ]
  },
  {
   "cell_type": "markdown",
   "id": "01829722-ada9-414b-9d36-e907287d02c8",
   "metadata": {},
   "source": [
    "| Terms      | Definitions                                                                                                          |\n",
    "|------------|----------------------------------------------------------------------------------------------------------------------|\n",
    "| Subsetting | _Selecting data_                                                                                                     |\n",
    "| Indexing   | Choosing a specific element via its index                                                                            |\n",
    "| Slicing    | Selecting a set of elements from the whole array or list that is stored, in their indexed order depending  on steps. |\n",
    "| Masking    | Selecting an element based on given condition(s)                                                                     |"
   ]
  },
  {
   "cell_type": "code",
   "execution_count": 2,
   "id": "dfc22a7c-f64e-48fa-9989-9125fa915737",
   "metadata": {},
   "outputs": [
    {
     "name": "stdout",
     "output_type": "stream",
     "text": [
      "['A' 'C' 'E' 'G' 'I']\n"
     ]
    }
   ],
   "source": [
    "import numpy as np\n",
    "np_array_2d = np.array([[1, \"A\"], [3, \"C\"], [2, \"B\"], [4, \"D\"],\n",
    "                        [5, \"E\"], [7, \"G\"], [6, \"F\"], [8, \"H\"],\n",
    "                        [10, \"J\"], [9, \"I\"]])\n",
    "firstrow = np.array(np_array_2d[:,0])\n",
    "firstrow = firstrow.astype(int)\n",
    "secondrow = np.array(np_array_2d[:,1])\n",
    "isodd = firstrow%2 != 0\n",
    "print(secondrow[isodd])\n",
    "\n",
    "#[x[1] for x in np_array_2d if x[0]%2==1]\n",
    "\n",
    "\n",
    "#i totally used the wrong thing to solve it\n",
    "\n",
    "#isodd=pd.DataFrame.to_numpy(isodd)\n",
    "#print(isodd)\n",
    "#print(np_array_2d)\n",
    "\n",
    "#test = isodd.loc[0]\n",
    "#print(test)"
   ]
  },
  {
   "cell_type": "code",
   "execution_count": 9,
   "id": "7df87e8c-8bcf-4e5b-b0db-54cb5a60b667",
   "metadata": {},
   "outputs": [
    {
     "name": "stdout",
     "output_type": "stream",
     "text": [
      "[[ 1  0  1 -1 -1]\n",
      " [ 1 -1  1 -1 -1]\n",
      " [ 1 -1 -1  1 -1]\n",
      " [-1  1  1 -1 -1]\n",
      " [ 1 -1  1 -1  1]]\n"
     ]
    }
   ],
   "source": [
    "x=np.array([[66, 50, 57, -1, -1],\n",
    " [92, -1, 88, -1, -1],\n",
    " [75, -1, -1, 76, -1],\n",
    " [-1, 51, 87, -1, -1],\n",
    " [71, -1, 67, -1, 69]])\n",
    "\n",
    "x[x<50] = -1\n",
    "x[x>50] = 1\n",
    "x[x==50] = 0\n",
    "print(x)"
   ]
  },
  {
   "cell_type": "code",
   "execution_count": null,
   "id": "520b4913-8099-4090-9f1c-e2476fe3f14f",
   "metadata": {},
   "outputs": [],
   "source": []
  }
 ],
 "metadata": {
  "kernelspec": {
   "display_name": "Python 3 (ipykernel)",
   "language": "python",
   "name": "python3"
  },
  "language_info": {
   "codemirror_mode": {
    "name": "ipython",
    "version": 3
   },
   "file_extension": ".py",
   "mimetype": "text/x-python",
   "name": "python",
   "nbconvert_exporter": "python",
   "pygments_lexer": "ipython3",
   "version": "3.12.3"
  },
  "toc": {
   "base_numbering": 1,
   "nav_menu": {},
   "number_sections": true,
   "sideBar": true,
   "skip_h1_title": false,
   "title_cell": "Table of Contents",
   "title_sidebar": "Contents",
   "toc_cell": false,
   "toc_position": {},
   "toc_section_display": true,
   "toc_window_display": false
  },
  "vscode": {
   "interpreter": {
    "hash": "31f2aee4e71d21fbe5cf8b01ff0e069b9275f58929596ceb00d14d90e3e16cd6"
   }
  }
 },
 "nbformat": 4,
 "nbformat_minor": 5
}
