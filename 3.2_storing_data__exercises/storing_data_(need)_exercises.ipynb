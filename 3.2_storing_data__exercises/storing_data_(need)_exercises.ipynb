{
 "cells": [
  {
   "attachments": {},
   "cell_type": "markdown",
   "id": "123456",
   "metadata": {},
   "source": [
    "<div style=\"text-align:left;font-size:2em\"><span style=\"font-weight:bolder;font-size:1.25em\">SP2273 | Learning Portfolio</span><br><br><span style=\"font-weight:bold;color:darkred\">Storing Data (Need) Exercises</span></div>"
   ]
  },
  {
   "cell_type": "markdown",
   "id": "c1e02e03-9e4f-45a5-a0cc-3537367108f3",
   "metadata": {},
   "source": [
    "Similarities between lists and arrays\n",
    "1. Both store data in an ordered manner.\n",
    "2. _Both require data to be accessed via an index that starts at zero_\n",
    "\n",
    "Differences between lists and arrays\n",
    "1. Lists and arrays treat mathematical operations differently. For example, when `list*3` is used, where list is a python list, the list becomes longer by 3 times, with the same data repeating, whereas for `array*3` where array is a numpy array, each element within the array would be multiplied by 3 instead. Some mathematical operators do not work for lists either, such as `list = list + 4`.\n",
    "2. Lists can store data in several different types, such as str and int, but arrays require the data to be stored in a single data type only.\n",
    "\n",
    "What is a dictionary?\n",
    "\n",
    "A dictionary is a way to store data where there is a key that is attached to a value."
   ]
  },
  {
   "cell_type": "code",
   "execution_count": 13,
   "id": "9d19ee2f-fd52-4544-a9aa-66cb98f8f222",
   "metadata": {},
   "outputs": [
    {
     "name": "stdout",
     "output_type": "stream",
     "text": [
      "a1\n",
      "c3\n",
      "e5\n",
      "g7\n",
      "i9\n",
      "a1\n",
      "c3\n",
      "e5\n",
      "g7\n",
      "i9\n"
     ]
    }
   ],
   "source": [
    "py_list = [\"a1\", \"b2\", \"c3\", \"d4\", \"e5\", \"f6\", \"g7\", \"h8\", \"i9\", \"j10\"]\n",
    "print(py_list[0])                    # Prints 'a1'\n",
    "print(py_list[2])                    # Prints 'c3'\n",
    "print(py_list[4])                    # Prints 'e5'\n",
    "print(py_list[6])                    # Prints 'g7'\n",
    "print(py_list[8])   # Prints 'i9'\n",
    "\n",
    "#this was fun\n",
    "x=len(py_list)//2 + len(py_list)%2\n",
    "for i in range(0,(x)):\n",
    "    a=i*2\n",
    "    print(py_list[a])"
   ]
  },
  {
   "cell_type": "code",
   "execution_count": 14,
   "id": "d658cbe0-14f6-4e55-9fd8-a0596ee549bc",
   "metadata": {},
   "outputs": [
    {
     "name": "stdout",
     "output_type": "stream",
     "text": [
      "Boron\n",
      "Boron\n"
     ]
    }
   ],
   "source": [
    "elements = ['Hydrogen',\n",
    "            'Helium', 'Lithium',\n",
    "            'Beryllium', 'Boron', 'Carbon',\n",
    "            'Nitrogen', 'Oxygen',\n",
    "            'Fluorine',\n",
    "            'Neon']\n",
    "print(elements[4])\n",
    "print(elements[-6])"
   ]
  },
  {
   "cell_type": "code",
   "execution_count": 22,
   "id": "d9b65b2c-b180-4e15-be8c-5448779a5bc0",
   "metadata": {},
   "outputs": [
    {
     "name": "stdout",
     "output_type": "stream",
     "text": [
      "9\n"
     ]
    }
   ],
   "source": [
    "import numpy as np\n",
    "numbers=[45, 60, 1, 30, 96, 1, 96, 57, 16, 1,\n",
    "        99, 62, 86, 43, 42, 60, 59, 1, 1, 35,\n",
    "        83, 47, 34, 28, 68, 23, 22, 92, 1, 79,\n",
    "        1, 29, 94, 72, 46, 47, 1, 74, 32, 20,\n",
    "        8, 37, 35, 1, 89, 29, 86, 19, 43, 61]                  \n",
    "np_numbers = np.array(numbers)\n",
    "np_is1 = np_numbers == 1\n",
    "#print(np_numbers)\n",
    "#print(np_is1)\n",
    "print(np.sum(np_is1))"
   ]
  },
  {
   "cell_type": "code",
   "execution_count": 59,
   "id": "3da8bf4e-64b1-45f2-9979-bd660c93c19a",
   "metadata": {},
   "outputs": [
    {
     "name": "stdout",
     "output_type": "stream",
     "text": [
      "Means of x1 and x2 are 38.5 and 302.5\n",
      "Standard deviation of x1 and x2 are 32.41990129534635 and 326.0893282522444\n",
      "Pearson coefficient is 0.9871796626270701\n",
      "Pearson coefficient according to numpy is\n",
      " [[1.         0.98717966]\n",
      " [0.98717966 1.        ]]\n"
     ]
    }
   ],
   "source": [
    "#technically I have imported numpy in the previous cell right?\n",
    "x_1 = np.array([1, 4, 9, 16, 25, 36, 49, 64, 81, 100])\n",
    "x_2 = np.array([1, 8, 27, 64, 125, 216, 343, 512, 729, 1000])\n",
    "\n",
    "#means for x1 and x2\n",
    "m1=np.mean(x_1)\n",
    "m2=np.mean(x_2)\n",
    "print('Means of x1 and x2 are', m1,'and', m2)\n",
    "\n",
    "#std dev for x1 and x2\n",
    "d1=np.std(x_1)\n",
    "d2=np.std(x_2)\n",
    "print('Standard deviation of x1 and x2 are', d1, 'and', d2)\n",
    "\n",
    "r=(sum((x_1-m1)*(x_2-m2)))/np.sqrt((sum((x_1-m1)**2))*(sum((x_2-m2)**2)))\n",
    "#a=x_1-m1\n",
    "#print(sum(a**2))\n",
    "print('Pearson coefficient is', r)\n",
    "print('Pearson coefficient according to numpy is\\n', np.corrcoef(x_1,x_2))"
   ]
  },
  {
   "cell_type": "code",
   "execution_count": null,
   "id": "28f3a161-2b2a-4357-bd93-01506893ca37",
   "metadata": {},
   "outputs": [],
   "source": []
  }
 ],
 "metadata": {
  "kernelspec": {
   "display_name": "Python 3 (ipykernel)",
   "language": "python",
   "name": "python3"
  },
  "language_info": {
   "codemirror_mode": {
    "name": "ipython",
    "version": 3
   },
   "file_extension": ".py",
   "mimetype": "text/x-python",
   "name": "python",
   "nbconvert_exporter": "python",
   "pygments_lexer": "ipython3",
   "version": "3.12.3"
  },
  "toc": {
   "base_numbering": 1,
   "nav_menu": {},
   "number_sections": true,
   "sideBar": true,
   "skip_h1_title": false,
   "title_cell": "Table of Contents",
   "title_sidebar": "Contents",
   "toc_cell": false,
   "toc_position": {},
   "toc_section_display": true,
   "toc_window_display": false
  },
  "vscode": {
   "interpreter": {
    "hash": "31f2aee4e71d21fbe5cf8b01ff0e069b9275f58929596ceb00d14d90e3e16cd6"
   }
  }
 },
 "nbformat": 4,
 "nbformat_minor": 5
}
