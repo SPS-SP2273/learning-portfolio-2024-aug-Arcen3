{
 "cells": [
  {
   "cell_type": "code",
   "execution_count": 2,
   "id": "919009d2-ca18-4993-97a4-8f89a53b432d",
   "metadata": {},
   "outputs": [
    {
     "name": "stdout",
     "output_type": "stream",
     "text": [
      "6\n",
      "Hello World!\n"
     ]
    }
   ],
   "source": [
    "a = 4\n",
    "b=2\n",
    "c=a+b\n",
    "print(c)\n",
    "print('Hello World!')"
   ]
  },
  {
   "cell_type": "markdown",
   "id": "ec226eac-b61b-4163-8d85-a43d8bf3c227",
   "metadata": {},
   "source": [
    "The ships *hung in the sky* in much the same way that bricks **don’t**.<sub>1</sub><sup>QUOTE</sup>\n",
    "# Why\n",
    "## Why am i doing this\n",
    "### I tried to do this\n",
    "#### send help\n",
    "\n",
    "```python\n",
    "print('Hello World!!! Yahoo!!!')\n",
    "```\n",
    "\n",
    "# Therefore we move on\n",
    "\n",
    "[The Schrodinger's Equation](https://chem.libretexts.org/Bookshelves/Physical_and_Theoretical_Chemistry_Textbook_Maps/Physical_Chemistry_(LibreTexts)/03%3A_The_Schrodinger_Equation_and_a_Particle_in_a_Box/3.01%3A_The_Schrodinger_Equation)\n",
    "\n",
    "See above for no reason except suffering.\n",
    "\n",
    "| Test 1 | Test 2 | Test 3 |\n",
    "|--------|--------|--------|\n",
    "| 1      | 2      | 1      |\n",
    "| 2      | 4      | 3      |\n",
    "|        |        |        |\n",
    "\n",
    "1. potato\n",
    "    1. potato x2\n",
    "    2. hehehehe\n",
    "2. what\n",
    "    1. wheeeeeeeee\n",
    "3. huh\n",
    "4. okay\n",
    "\n",
    "Question for prof^ why is the sublist as A B C D E instead of 1 2 3 4 5?\n",
    "\n",
    "Inline math - $\\sqrt{b^2-4ac}$\n",
    "\n",
    "Math block\n",
    "$$\n",
    "F_{g} = \\dfrac {GMm}{r^2}\n",
    "$$\n",
    "\n",
    "$$\n",
    "x = \\dfrac {-b \\pm \\sqrt{b^2 - 4ac}}{2a}\n",
    "$$\n",
    "\n",
    "$$\n",
    "v = \\lambda f\n",
    "$$"
   ]
  },
  {
   "cell_type": "markdown",
   "id": "6d04a7bc-a7a7-4bae-a036-f9771c859758",
   "metadata": {},
   "source": [
    "1. hello\n",
    "2. \n",
    "   1. test\n",
    "   1. testing\n",
    "3. second"
   ]
  },
  {
   "cell_type": "markdown",
   "id": "f16b3aac-5a78-45bf-9380-46f419fa392e",
   "metadata": {},
   "source": [
    "1. Numered item\n",
    "     1. Substep"
   ]
  },
  {
   "cell_type": "code",
   "execution_count": null,
   "id": "9065e62a-6c7a-4b92-bd8b-2a1f1ae96f16",
   "metadata": {},
   "outputs": [],
   "source": []
  },
  {
   "cell_type": "code",
   "execution_count": null,
   "id": "5ba2b97f-4b7c-4a18-97b2-7643dfaf599d",
   "metadata": {},
   "outputs": [],
   "source": []
  }
 ],
 "metadata": {
  "kernelspec": {
   "display_name": "Python 3 (ipykernel)",
   "language": "python",
   "name": "python3"
  },
  "language_info": {
   "codemirror_mode": {
    "name": "ipython",
    "version": 3
   },
   "file_extension": ".py",
   "mimetype": "text/x-python",
   "name": "python",
   "nbconvert_exporter": "python",
   "pygments_lexer": "ipython3",
   "version": "3.12.3"
  }
 },
 "nbformat": 4,
 "nbformat_minor": 5
}
