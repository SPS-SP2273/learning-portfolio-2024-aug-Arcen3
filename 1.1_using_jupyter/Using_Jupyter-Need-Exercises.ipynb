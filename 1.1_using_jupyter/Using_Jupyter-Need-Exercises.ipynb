{
 "cells": [
  {
   "cell_type": "markdown",
   "id": "2db5006b-846f-479b-a736-12964a8ac781",
   "metadata": {},
   "source": [
    "# 1 Quadratic Equations\n",
    "---\n",
    "## Introduction\n",
    "\n",
    "![](https://upload.wikimedia.org/wikipedia/commons/thumb/f/f8/Polynomialdeg2.svg/300px-Polynomialdeg2.svg.png)\n",
    "\n",
    "(Image from the [Wikipedia page on Quadratic Equations](https://en.wikipedia.org/wiki/Quadratic_equation))\n",
    "\n",
    "The general form of a quadratic equation is:\n",
    "$$\n",
    "ax^2 + bx + c = 0\n",
    "$$\n",
    "\n",
    "## Solutions\n",
    "\n",
    "Provided $a \\neq 0$, we can use an elementary algebraic method called [completing the square](https://en.wikipedia.org/wiki/Completing_the_square) to show that a quadratic equation has the following solution:\n",
    "$$\n",
    "x = \\dfrac {-b \\pm \\sqrt{b^2 - 4ac}}{2a}\n",
    "$$\n",
    "\n",
    "## Discriminant\n",
    "The quantity $\\delta = b^2 - 4ac$ is called the **discriminant** of the equation and decides the nature of its solutions. The table below shows the various possibilities.\n",
    "\n",
    "|        Discriminant        | Roots                               |\n",
    "|:--------------------------:|-------------------------------------|\n",
    "|  $\\delta = b^2 - 4ac = 0$  | A single solution of $-b/(2a)$      |\n",
    "| $\\delta = b^2 - 4ac \\gt 0$ | Two distinct solutions              |\n",
    "| $\\delta = b^2 - 4ac \\lt 0$ | No real solutions; both are complex |"
   ]
  },
  {
   "cell_type": "markdown",
   "id": "67224dfa-2c31-42c9-b09a-9165a33c3900",
   "metadata": {},
   "source": [
    "Exercise 2\n",
    "\n",
    "1. What is a Git **repository**?\n",
    "\n",
    "A collection of files that are being used for our code.\n",
    "\n",
    "2. Git keeps track of the changes in the files in our repository.\n",
    "3. What is a **commit**?\n",
    "\n",
    "It is a change that we made in our files, that we have decided to keep and hence \"commit\" to the respository.\n",
    "\n",
    "4. What is a **push**?\n",
    "\n",
    "It is an action whereby we upload the changes that we have made to the online repository, so that it can be updated with our newest changes.\n",
    "\n",
    "5. What is a **pull**?\n",
    "\n",
    "It is an action where we download the most recent changes that were made from the online repository, and therefore synchronise our local data with the cloud.\n",
    "\n",
    "6. What is the difference between **GitHub** and **GitHub Desktop**?\n",
    "\n",
    "GitHub is an online storage of the files that we are using to write our program, while GitHub Desktop is localised to our device's storage."
   ]
  },
  {
   "cell_type": "markdown",
   "id": "92769d4c-f04e-4b70-978b-8a3cfbfeb771",
   "metadata": {},
   "source": [
    "**Exercise 3 (A Matter of Statistics)** The mean ($\\mu$), standard deviation ($\\sigma$), and Pearson correlation coefficient ($r$) are important statistical parameters. Given variables $x_{i}$ and $y_{i}$ representing the $i$-th values in a dataset with $n$ pairs, use Markdown notation to write the equations for these parameters.\n",
    "\n",
    "Your equations should ideally look like the following. You might find [this resource](https://www.cmor-faculty.rice.edu/~heinken/latex/symbols.pdf) from Rice University useful.\n",
    "\n",
    "$$\n",
    "\\mu = \\dfrac{1}{n} \\sum_{i=1}^{n} x_{i}\n",
    "$$\n",
    "\n",
    "$$\n",
    "\\sigma = \\sqrt {\\dfrac{1}{n} \\sum_{i=1}^{n} (x_{i} - \\mu)^2}\n",
    "$$\n",
    "\n",
    "$$\n",
    "r = \\dfrac {\\sum_{i=1}^{n} (x_{i} - \\mu_{X})(y_{i} - \\mu_{Y})}{\\sqrt {\\sum_{i=1}^{n} (x_{i} - \\mu_{X})^2 \\sum_{i=1}^{n} (y_{i} - \\mu_{Y})^2}}\n",
    "$$"
   ]
  },
  {
   "cell_type": "code",
   "execution_count": null,
   "id": "4cf595a7-8cec-4789-a42d-9a488502e4a0",
   "metadata": {},
   "outputs": [],
   "source": []
  }
 ],
 "metadata": {
  "kernelspec": {
   "display_name": "Python 3 (ipykernel)",
   "language": "python",
   "name": "python3"
  },
  "language_info": {
   "codemirror_mode": {
    "name": "ipython",
    "version": 3
   },
   "file_extension": ".py",
   "mimetype": "text/x-python",
   "name": "python",
   "nbconvert_exporter": "python",
   "pygments_lexer": "ipython3",
   "version": "3.12.3"
  }
 },
 "nbformat": 4,
 "nbformat_minor": 5
}
